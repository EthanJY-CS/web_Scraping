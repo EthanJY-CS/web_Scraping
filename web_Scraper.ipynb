{
 "cells": [
  {
   "cell_type": "code",
   "execution_count": null,
   "metadata": {},
   "outputs": [],
   "source": []
  }
 ],
 "metadata": {
  "interpreter": {
   "hash": "06a514ddd666fa3f7514cf9e738f4b1d43e0d8f45c479cbd4ceb64f15c855325"
  },
  "kernelspec": {
   "display_name": "Python 3.8.13 ('web_Scrape')",
   "language": "python",
   "name": "python3"
  },
  "language_info": {
   "name": "python",
   "version": "3.8.13"
  },
  "orig_nbformat": 4
 },
 "nbformat": 4,
 "nbformat_minor": 2
}
